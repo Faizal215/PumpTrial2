{
 "cells": [
  {
   "cell_type": "code",
   "execution_count": 1,
   "id": "5bf2c4d1",
   "metadata": {},
   "outputs": [],
   "source": [
    "import pandas as pd\n",
    "import pickle\n",
    "\n",
    "from sklearn.model_selection import train_test_split\n",
    "from sklearn.ensemble import RandomForestClassifier \n",
    "from sklearn import metrics\n",
    "\n",
    "# contains 33 columns\n",
    "dataset_url = \"https://raw.githubusercontent.com/Faizal215/FYP-Test1/main/data.csv\"\n",
    "df = pd.read_csv(dataset_url, dtype = {'diagnosis': str})\n",
    "\n",
    "#df.info()"
   ]
  },
  {
   "cell_type": "code",
   "execution_count": 2,
   "id": "a2c4e58f",
   "metadata": {},
   "outputs": [
    {
     "data": {
      "text/html": [
       "<div>\n",
       "<style scoped>\n",
       "    .dataframe tbody tr th:only-of-type {\n",
       "        vertical-align: middle;\n",
       "    }\n",
       "\n",
       "    .dataframe tbody tr th {\n",
       "        vertical-align: top;\n",
       "    }\n",
       "\n",
       "    .dataframe thead th {\n",
       "        text-align: right;\n",
       "    }\n",
       "</style>\n",
       "<table border=\"1\" class=\"dataframe\">\n",
       "  <thead>\n",
       "    <tr style=\"text-align: right;\">\n",
       "      <th></th>\n",
       "      <th>diagnosis</th>\n",
       "      <th>mean</th>\n",
       "      <th>max</th>\n",
       "      <th>kurtosis</th>\n",
       "      <th>variance</th>\n",
       "      <th>onenorm</th>\n",
       "      <th>compactness_mean</th>\n",
       "      <th>concavity_mean</th>\n",
       "      <th>concave points_mean</th>\n",
       "      <th>symmetry_mean</th>\n",
       "      <th>...</th>\n",
       "      <th>radius_worst</th>\n",
       "      <th>texture_worst</th>\n",
       "      <th>perimeter_worst</th>\n",
       "      <th>area_worst</th>\n",
       "      <th>smoothness_worst</th>\n",
       "      <th>compactness_worst</th>\n",
       "      <th>concavity_worst</th>\n",
       "      <th>concave points_worst</th>\n",
       "      <th>symmetry_worst</th>\n",
       "      <th>fractal_dimension_worst</th>\n",
       "    </tr>\n",
       "  </thead>\n",
       "  <tbody>\n",
       "    <tr>\n",
       "      <th>0</th>\n",
       "      <td>M</td>\n",
       "      <td>17.99</td>\n",
       "      <td>10.38</td>\n",
       "      <td>122.80</td>\n",
       "      <td>1001.0</td>\n",
       "      <td>0.11840</td>\n",
       "      <td>0.27760</td>\n",
       "      <td>0.3001</td>\n",
       "      <td>0.14710</td>\n",
       "      <td>0.2419</td>\n",
       "      <td>...</td>\n",
       "      <td>25.38</td>\n",
       "      <td>17.33</td>\n",
       "      <td>184.60</td>\n",
       "      <td>2019.0</td>\n",
       "      <td>0.1622</td>\n",
       "      <td>0.6656</td>\n",
       "      <td>0.7119</td>\n",
       "      <td>0.2654</td>\n",
       "      <td>0.4601</td>\n",
       "      <td>0.11890</td>\n",
       "    </tr>\n",
       "    <tr>\n",
       "      <th>1</th>\n",
       "      <td>M</td>\n",
       "      <td>20.57</td>\n",
       "      <td>17.77</td>\n",
       "      <td>132.90</td>\n",
       "      <td>1326.0</td>\n",
       "      <td>0.08474</td>\n",
       "      <td>0.07864</td>\n",
       "      <td>0.0869</td>\n",
       "      <td>0.07017</td>\n",
       "      <td>0.1812</td>\n",
       "      <td>...</td>\n",
       "      <td>24.99</td>\n",
       "      <td>23.41</td>\n",
       "      <td>158.80</td>\n",
       "      <td>1956.0</td>\n",
       "      <td>0.1238</td>\n",
       "      <td>0.1866</td>\n",
       "      <td>0.2416</td>\n",
       "      <td>0.1860</td>\n",
       "      <td>0.2750</td>\n",
       "      <td>0.08902</td>\n",
       "    </tr>\n",
       "    <tr>\n",
       "      <th>2</th>\n",
       "      <td>M</td>\n",
       "      <td>19.69</td>\n",
       "      <td>21.25</td>\n",
       "      <td>130.00</td>\n",
       "      <td>1203.0</td>\n",
       "      <td>0.10960</td>\n",
       "      <td>0.15990</td>\n",
       "      <td>0.1974</td>\n",
       "      <td>0.12790</td>\n",
       "      <td>0.2069</td>\n",
       "      <td>...</td>\n",
       "      <td>23.57</td>\n",
       "      <td>25.53</td>\n",
       "      <td>152.50</td>\n",
       "      <td>1709.0</td>\n",
       "      <td>0.1444</td>\n",
       "      <td>0.4245</td>\n",
       "      <td>0.4504</td>\n",
       "      <td>0.2430</td>\n",
       "      <td>0.3613</td>\n",
       "      <td>0.08758</td>\n",
       "    </tr>\n",
       "    <tr>\n",
       "      <th>3</th>\n",
       "      <td>M</td>\n",
       "      <td>11.42</td>\n",
       "      <td>20.38</td>\n",
       "      <td>77.58</td>\n",
       "      <td>386.1</td>\n",
       "      <td>0.14250</td>\n",
       "      <td>0.28390</td>\n",
       "      <td>0.2414</td>\n",
       "      <td>0.10520</td>\n",
       "      <td>0.2597</td>\n",
       "      <td>...</td>\n",
       "      <td>14.91</td>\n",
       "      <td>26.50</td>\n",
       "      <td>98.87</td>\n",
       "      <td>567.7</td>\n",
       "      <td>0.2098</td>\n",
       "      <td>0.8663</td>\n",
       "      <td>0.6869</td>\n",
       "      <td>0.2575</td>\n",
       "      <td>0.6638</td>\n",
       "      <td>0.17300</td>\n",
       "    </tr>\n",
       "    <tr>\n",
       "      <th>4</th>\n",
       "      <td>M</td>\n",
       "      <td>20.29</td>\n",
       "      <td>14.34</td>\n",
       "      <td>135.10</td>\n",
       "      <td>1297.0</td>\n",
       "      <td>0.10030</td>\n",
       "      <td>0.13280</td>\n",
       "      <td>0.1980</td>\n",
       "      <td>0.10430</td>\n",
       "      <td>0.1809</td>\n",
       "      <td>...</td>\n",
       "      <td>22.54</td>\n",
       "      <td>16.67</td>\n",
       "      <td>152.20</td>\n",
       "      <td>1575.0</td>\n",
       "      <td>0.1374</td>\n",
       "      <td>0.2050</td>\n",
       "      <td>0.4000</td>\n",
       "      <td>0.1625</td>\n",
       "      <td>0.2364</td>\n",
       "      <td>0.07678</td>\n",
       "    </tr>\n",
       "  </tbody>\n",
       "</table>\n",
       "<p>5 rows × 31 columns</p>\n",
       "</div>"
      ],
      "text/plain": [
       "  diagnosis   mean    max  kurtosis  variance  onenorm  compactness_mean  \\\n",
       "0         M  17.99  10.38    122.80    1001.0  0.11840           0.27760   \n",
       "1         M  20.57  17.77    132.90    1326.0  0.08474           0.07864   \n",
       "2         M  19.69  21.25    130.00    1203.0  0.10960           0.15990   \n",
       "3         M  11.42  20.38     77.58     386.1  0.14250           0.28390   \n",
       "4         M  20.29  14.34    135.10    1297.0  0.10030           0.13280   \n",
       "\n",
       "   concavity_mean  concave points_mean  symmetry_mean  ...  radius_worst  \\\n",
       "0          0.3001              0.14710         0.2419  ...         25.38   \n",
       "1          0.0869              0.07017         0.1812  ...         24.99   \n",
       "2          0.1974              0.12790         0.2069  ...         23.57   \n",
       "3          0.2414              0.10520         0.2597  ...         14.91   \n",
       "4          0.1980              0.10430         0.1809  ...         22.54   \n",
       "\n",
       "   texture_worst  perimeter_worst  area_worst  smoothness_worst  \\\n",
       "0          17.33           184.60      2019.0            0.1622   \n",
       "1          23.41           158.80      1956.0            0.1238   \n",
       "2          25.53           152.50      1709.0            0.1444   \n",
       "3          26.50            98.87       567.7            0.2098   \n",
       "4          16.67           152.20      1575.0            0.1374   \n",
       "\n",
       "   compactness_worst  concavity_worst  concave points_worst  symmetry_worst  \\\n",
       "0             0.6656           0.7119                0.2654          0.4601   \n",
       "1             0.1866           0.2416                0.1860          0.2750   \n",
       "2             0.4245           0.4504                0.2430          0.3613   \n",
       "3             0.8663           0.6869                0.2575          0.6638   \n",
       "4             0.2050           0.4000                0.1625          0.2364   \n",
       "\n",
       "   fractal_dimension_worst  \n",
       "0                  0.11890  \n",
       "1                  0.08902  \n",
       "2                  0.08758  \n",
       "3                  0.17300  \n",
       "4                  0.07678  \n",
       "\n",
       "[5 rows x 31 columns]"
      ]
     },
     "execution_count": 2,
     "metadata": {},
     "output_type": "execute_result"
    }
   ],
   "source": [
    "#df.info()\n",
    "df.head(5)"
   ]
  },
  {
   "cell_type": "code",
   "execution_count": 9,
   "id": "7e5bc2a7",
   "metadata": {},
   "outputs": [],
   "source": [
    "df['diagnosis'] = df['diagnosis'].map({'healthy':0,'severe':1,'mild':2,'mild2':3})\n",
    "\n",
    "\n",
    "\n",
    "#print(df.to_string())\n",
    "\n",
    "train, test = train_test_split(df, test_size = 0.2)\n",
    "\n",
    "features = [ 'mean', 'max', 'kurtosis', 'variance', 'onenorm' ]\n",
    "\n",
    "train_X = train[features]\n",
    "train_y =train.diagnosis\n",
    "\n",
    "test_X = test[features]\n",
    "test_y = test.diagnosis"
   ]
  },
  {
   "cell_type": "code",
   "execution_count": 10,
   "id": "f602f975",
   "metadata": {},
   "outputs": [],
   "source": [
    "#df.head(5)"
   ]
  },
  {
   "cell_type": "code",
   "execution_count": 11,
   "id": "b1b7726a",
   "metadata": {},
   "outputs": [],
   "source": [
    "#print(train_y)"
   ]
  },
  {
   "cell_type": "code",
   "execution_count": 12,
   "id": "1e1035ec",
   "metadata": {},
   "outputs": [
    {
     "name": "stdout",
     "output_type": "stream",
     "text": [
      "[2 0 2 0 2 0 3 1 0 2 0 0 2 0 1 2 3 0 0 3 2 2 3 0 3 0 3 1 3 1 1 2 2 3 3 3 3\n",
      " 0 2 3 3 0 2 3 1 2 3 2 2 0 2 0 2 1 3 2 1 1 2 0 2 0 3 1 2 0 3 2 3 2 1 2 2 2\n",
      " 3 0 0 3 3 1 3 0 0 2 1 2 0 3 2 0 3 3 3 0 0 0 2 0 3 2 0 0 2 2 0 2 0 1 2 2 1\n",
      " 2 3 2]\n"
     ]
    },
    {
     "data": {
      "text/plain": [
       "0.19298245614035087"
      ]
     },
     "execution_count": 12,
     "metadata": {},
     "output_type": "execute_result"
    }
   ],
   "source": [
    "model = RandomForestClassifier(n_estimators=200, n_jobs=-1)\n",
    "model.fit(train_X,train_y)\n",
    "\n",
    "prediction = model.predict(test_X)\n",
    "print(prediction)\n",
    "metrics.accuracy_score(prediction,test_y)"
   ]
  },
  {
   "cell_type": "code",
   "execution_count": 13,
   "id": "03fd5d3b",
   "metadata": {},
   "outputs": [
    {
     "data": {
      "text/plain": [
       "Index(['mean', 'max', 'kurtosis', 'variance', 'onenorm'], dtype='object')"
      ]
     },
     "execution_count": 13,
     "metadata": {},
     "output_type": "execute_result"
    }
   ],
   "source": [
    "test_X.columns"
   ]
  },
  {
   "cell_type": "code",
   "execution_count": 14,
   "id": "a7b1a553",
   "metadata": {},
   "outputs": [
    {
     "name": "stdout",
     "output_type": "stream",
     "text": [
      "[0]\n"
     ]
    }
   ],
   "source": [
    "data = [[21.8, 110.0, 1.2, 1.1, 2.3]]\n",
    "\n",
    "# New dataframe for only the columns of interest\n",
    "dfNew = pd.DataFrame(data, columns = ['mean', 'max', 'kurtosis', 'variance', 'onenorm'])\n",
    "single = model.predict(dfNew)\n",
    "print(single)"
   ]
  },
  {
   "cell_type": "code",
   "execution_count": 15,
   "id": "34e846c9",
   "metadata": {},
   "outputs": [
    {
     "name": "stdout",
     "output_type": "stream",
     "text": [
      "   mean    max  kurtosis  variance  onenorm\n",
      "0  21.8  110.0       1.2       1.1      2.3\n"
     ]
    }
   ],
   "source": [
    "print(dfNew)"
   ]
  },
  {
   "cell_type": "code",
   "execution_count": 16,
   "id": "8242cc14",
   "metadata": {},
   "outputs": [],
   "source": [
    "#print(test_X)"
   ]
  },
  {
   "cell_type": "code",
   "execution_count": 17,
   "id": "04974a36",
   "metadata": {},
   "outputs": [],
   "source": [
    "#print(test_y)"
   ]
  },
  {
   "cell_type": "code",
   "execution_count": 18,
   "id": "77ee43d5",
   "metadata": {},
   "outputs": [],
   "source": [
    "fname = 'breastCancerModel.pkl'\n",
    "pickle.dump(model, open(fname, 'wb'))"
   ]
  }
 ],
 "metadata": {
  "kernelspec": {
   "display_name": "Python 3 (ipykernel)",
   "language": "python",
   "name": "python3"
  },
  "language_info": {
   "codemirror_mode": {
    "name": "ipython",
    "version": 3
   },
   "file_extension": ".py",
   "mimetype": "text/x-python",
   "name": "python",
   "nbconvert_exporter": "python",
   "pygments_lexer": "ipython3",
   "version": "3.9.13"
  }
 },
 "nbformat": 4,
 "nbformat_minor": 5
}
